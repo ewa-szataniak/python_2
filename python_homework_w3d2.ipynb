{
 "cells": [
  {
   "cell_type": "markdown",
   "metadata": {},
   "source": [
    "# Object-Oriented-Programming (OOP)"
   ]
  },
  {
   "cell_type": "markdown",
   "metadata": {},
   "source": [
    "## Tasks Today:\n",
    "\n",
    "   \n",
    "\n",
    "1) <b>Creating a Class (Initializing/Declaring)</b> <br>\n",
    "2) <b>Using a Class (Instantiating)</b> <br>\n",
    " &nbsp;&nbsp;&nbsp;&nbsp; a) Creating One Instance <br>\n",
    " &nbsp;&nbsp;&nbsp;&nbsp; b) Creating Multiple Instances <br>\n",
    " &nbsp;&nbsp;&nbsp;&nbsp; c) In-Class Exercise #1 - Create a Class 'Car' and instantiate three different makes of cars <br>\n",
    "3) <b>The \\__init\\__() Method</b> <br>\n",
    " &nbsp;&nbsp;&nbsp;&nbsp; a) The 'self' Attribute <br>\n",
    "4) <b>Class Attributes</b> <br>\n",
    " &nbsp;&nbsp;&nbsp;&nbsp; a) Initializing Attributes <br>\n",
    " &nbsp;&nbsp;&nbsp;&nbsp; b) Setting an Attribute Outside of the \\__init\\__() Method <br>\n",
    " &nbsp;&nbsp;&nbsp;&nbsp; c) Setting Defaults for Attributes <br>\n",
    " &nbsp;&nbsp;&nbsp;&nbsp; d) Accessing Class Attributes <br>\n",
    " &nbsp;&nbsp;&nbsp;&nbsp; e) Changing Class Attributes <br>\n",
    " &nbsp;&nbsp;&nbsp;&nbsp; f) In-Class Exercise #2 - Add a color and wheels attribute to your 'Car' class <br>\n",
    "5) <b>Class Methods</b> <br>\n",
    " &nbsp;&nbsp;&nbsp;&nbsp; a) Creating <br>\n",
    " &nbsp;&nbsp;&nbsp;&nbsp; b) Calling <br>\n",
    " &nbsp;&nbsp;&nbsp;&nbsp; c) Modifying an Attribute's Value Through a Method <br>\n",
    " &nbsp;&nbsp;&nbsp;&nbsp; d) Incrementing an Attribute's Value Through a Method <br>\n",
    " &nbsp;&nbsp;&nbsp;&nbsp; e) In-Class Exercise #3 - Add a method that prints the cars color and wheel number, then call them <br>\n",
    "6) <b>Inheritance</b> <br>\n",
    " &nbsp;&nbsp;&nbsp;&nbsp; a) Syntax for Inheriting from a Parent Class <br>\n",
    " &nbsp;&nbsp;&nbsp;&nbsp; b) The \\__init\\__() Method for a Child Class (super()) <br>\n",
    " &nbsp;&nbsp;&nbsp;&nbsp; c) Defining Attributes and Methods for the Child Class <br>\n",
    " &nbsp;&nbsp;&nbsp;&nbsp; d) Method Overriding <br>\n",
    " &nbsp;&nbsp;&nbsp;&nbsp; e) In-Class Exercise #4 - Create a class 'Ford' that inherits from 'Car' class and initialize it as a Blue Ford Explorer with 4 wheels using the super() method <br>\n",
    "7) <b>Classes as Attributes</b> <br>\n",
    "8) <b>Exercises</b> <br>\n",
    " &nbsp;&nbsp;&nbsp;&nbsp; a) Exercise #1 - Turn the shopping cart program from last week into an object-oriented program <br>"
   ]
  },
  {
   "cell_type": "markdown",
   "metadata": {},
   "source": [
    "## Creating a Class (Initializing/Declaring)\n",
    "<p>When creating a class, function, or even a variable you are initializing that object. Initializing and Declaring occur at the same time in Python, whereas in lower level languages you have to declare an object before initializing it. This is the first step in the process of using a class.</p>"
   ]
  },
  {
   "cell_type": "code",
   "execution_count": 4,
   "metadata": {},
   "outputs": [],
   "source": [
    "class Car():\n",
    "    wheels = 4\n",
    "    color = \"blue\""
   ]
  },
  {
   "cell_type": "markdown",
   "metadata": {},
   "source": [
    "## Using a Class (Instantiating)\n",
    "<p>The process of creating a class is called <i>Instantiating</i>. Each time you create a variable of that type of class, it is referred to as an <i>Instance</i> of that class. This is the second step in the process of using a class.</p>"
   ]
  },
  {
   "cell_type": "markdown",
   "metadata": {},
   "source": [
    "##### Creating One Instance"
   ]
  },
  {
   "cell_type": "code",
   "execution_count": 5,
   "metadata": {},
   "outputs": [
    {
     "name": "stdout",
     "output_type": "stream",
     "text": [
      "4\n",
      "blue\n"
     ]
    }
   ],
   "source": [
    "mazda = Car() #c---need parantheses\n",
    "\n",
    "print(mazda.wheels)\n",
    "print(mazda.color)\n",
    "\n",
    "# print(mazda._dict_)"
   ]
  },
  {
   "cell_type": "markdown",
   "metadata": {},
   "source": [
    "##### Creating Multiple Instances"
   ]
  },
  {
   "cell_type": "code",
   "execution_count": 6,
   "metadata": {},
   "outputs": [
    {
     "name": "stdout",
     "output_type": "stream",
     "text": [
      "4\n",
      "4\n",
      "blue\n"
     ]
    }
   ],
   "source": [
    "ford = Car()\n",
    "honda = Car()\n",
    "chevy = Car()\n",
    "\n",
    "print(ford.wheels)\n",
    "print (honda.wheels)\n",
    "print(chevy.color)"
   ]
  },
  {
   "cell_type": "markdown",
   "metadata": {},
   "source": [
    "##### In-Class Exercise #1 - Create a Class 'Car' and Instantiate three different makes of cars"
   ]
  },
  {
   "cell_type": "code",
   "execution_count": 7,
   "metadata": {},
   "outputs": [
    {
     "name": "stdout",
     "output_type": "stream",
     "text": [
      "{'model': 'prius', 'fuel': 'hybrid', 'year': 2015}\n",
      "{'model': '400z', 'fuel': 'premium gasoline', 'year': 2021}\n",
      "{'model': 'm3', 'fuel': 'unleaded gasoline', 'year': 1990}\n"
     ]
    }
   ],
   "source": [
    "class Vehicle():\n",
    "    MOVES_FAST = True # constant --> not likely to change across objects\n",
    "    def __init__(self, model, year, fuel):\n",
    "        self.model = model\n",
    "        self.fuel = fuel\n",
    "        self.year = year\n",
    "\n",
    "toyota = Vehicle(\"prius\", 2015, \"hybrid\")\n",
    "nissan = Vehicle(\"400z\", 2021, \"premium gasoline\")\n",
    "bmw = Vehicle(\"m3\", 1990, \"unleaded gasoline\")\n",
    "\n",
    "print(toyota.__dict__)\n",
    "print(nissan.__dict__)\n",
    "print(bmw.__dict__)"
   ]
  },
  {
   "cell_type": "code",
   "execution_count": 19,
   "metadata": {},
   "outputs": [
    {
     "name": "stdout",
     "output_type": "stream",
     "text": [
      "Your car is a Metallic Blue Chevy Impala with 4 wheels and 4 doors\n"
     ]
    }
   ],
   "source": [
    "class Car():\n",
    "    def __init__(self, make, model, wheels, color, doors):\n",
    "        self.make = make\n",
    "        self.model = model\n",
    "        self.wheels = wheels\n",
    "        self.color = color\n",
    "        self.doors = doors\n",
    "chevy = Car(\"Chevy\", \"Impala\", 4, \"Mocha Metallic Bronze\", 4)\n",
    "fisher = Car(\"Fisher-Price\", \"Toy\", 4, \"red\", 2)\n",
    "horse = Car(\"Gandalf\", \"Shadowfax\", 0, \"white\", 0)\n",
    "\n",
    "\n",
    "car_make = input(\"Please enter the make of your car\")\n",
    "car_model = input(\"Please enter the model of your car\")\n",
    "car_wheels = input(\"Please enter how many wheels your car has\")\n",
    "car_color = input(\"Please enter the color of your car\")\n",
    "car_doors = input(\"Please enter how many doors your car has\")\n",
    "\n",
    "print(f\"Your car is a {car_color} {car_make} {car_model} with {car_wheels} wheels and {car_doors} doors\")\n"
   ]
  },
  {
   "cell_type": "code",
   "execution_count": 20,
   "metadata": {},
   "outputs": [
    {
     "name": "stdout",
     "output_type": "stream",
     "text": [
      "{'model': 'Genesis Coupe 3.8L', 'color': 'Slate Grey', 'doors': 2, 'horsepower': 360}\n",
      "{'model': 'Accord', 'color': 'Silver', 'doors': 4, 'horsepower': 200}\n",
      "{'model': 'M3', 'color': 'Black', 'doors': 4, 'horsepower': 470}\n"
     ]
    }
   ],
   "source": [
    "class Car():\n",
    "    def __init__(self, model, color, doors, horsepower):\n",
    "        self.model = model\n",
    "        self.color = color\n",
    "        self.doors = doors\n",
    "        self.horsepower = horsepower\n",
    "\n",
    "hyundai = Car(\"Genesis Coupe 3.8L\", \"Slate Grey\", 2, 360 )\n",
    "honda = Car(\"Accord\", \"Silver\", 4, 200)\n",
    "bmw = Car(\"M3\", \"Black\", 4, 470)\n",
    "\n",
    "print(hyundai.__dict__)\n",
    "print(honda.__dict__)\n",
    "print(bmw.__dict__)\n"
   ]
  },
  {
   "cell_type": "code",
   "execution_count": 21,
   "metadata": {},
   "outputs": [
    {
     "name": "stdout",
     "output_type": "stream",
     "text": [
      "sedan\n",
      "silver\n",
      "25\n"
     ]
    }
   ],
   "source": [
    "class Car():\n",
    "    def __init__(self, mph, color, body):\n",
    "        self.mph = mph\n",
    "        self.color = color\n",
    "        self.body = body\n",
    "\n",
    "toyota = Car(50, \"blue\", \"sedan\")\n",
    "\n",
    "nissan = Car(35, \"silver\", \"truck\")\n",
    "\n",
    "audi = Car(25, \"black\", \"sedan\")\n",
    "\n",
    "\n",
    "print(toyota.body)\n",
    "print(nissan.color)\n",
    "print(audi.mph)"
   ]
  },
  {
   "cell_type": "markdown",
   "metadata": {},
   "source": [
    "## The \\__init\\__() Method <br>\n",
    "<p>This method is used in almost every created class, and called only once upon the creation of the class instance. This method will initialize all variables needed for the object.</p>"
   ]
  },
  {
   "cell_type": "code",
   "execution_count": 25,
   "metadata": {},
   "outputs": [
    {
     "name": "stdout",
     "output_type": "stream",
     "text": [
      "Blue\n",
      "Red\n",
      "Green\n",
      "Silver\n",
      "{'wheels': 4, 'color': 'Blue', 'doors': 4}\n"
     ]
    }
   ],
   "source": [
    "class Car():\n",
    "    def __init__(self, wheels, color, doors):\n",
    "        self.wheels = wheels\n",
    "        self.color = color\n",
    "        self.doors = doors\n",
    "mazda = Car(4, \"Blue\", 4)\n",
    "\n",
    "mclaren = Car(4, 'Red', 2)\n",
    "\n",
    "honda = Car(4, \"Green\", 4)\n",
    "\n",
    "ford = Car(6, \"Silver\", 4)\n",
    "print(mazda.color)\n",
    "print(mclaren.color)\n",
    "print(honda.color)\n",
    "print(ford.color)\n",
    "\n",
    "mazda.wheels\n",
    "\n",
    "print(mazda.__dict__)"
   ]
  },
  {
   "cell_type": "code",
   "execution_count": 24,
   "metadata": {},
   "outputs": [
    {
     "name": "stdout",
     "output_type": "stream",
     "text": [
      "Your car is a Pink Honda Civic with 4 wheels and 4 doors\n"
     ]
    }
   ],
   "source": [
    "class Car():\n",
    "    def __init__(self, make, model, num_wheels, color, num_doors):\n",
    "        self.make = make\n",
    "        self.model = model\n",
    "        self.num_wheels = num_wheels\n",
    "        self.color = color\n",
    "        self.num_doors = num_doors\n",
    "\n",
    "# Create instances of the Car class\n",
    "my_car = Car(\"Toyota\", \"Corolla\", 4, \"blue\", 4)\n",
    "neighbor_car = Car(\"Honda\", \"Civic\", 4, \"silver\", 2)\n",
    "family_van = Car(\"Dodge\", \"Grand Caravan\", 4, \"black\", 4)\n",
    "\n",
    "# Get user input for car attributes\n",
    "car_make = input(\"Please enter the make of your car: \")\n",
    "car_model = input(\"Please enter the model of your car: \")\n",
    "car_wheels = input(\"Please enter how many wheels your car has: \")\n",
    "car_color = input(\"Please enter the color of your car: \")\n",
    "car_doors = input(\"Please enter how many doors your car has: \")\n",
    "\n",
    "# Create a new car object using user input\n",
    "user_car = Car(car_make, car_model, car_wheels, car_color, car_doors)\n",
    "\n",
    "# Print out attributes of user's car\n",
    "print(f\"Your car is a {user_car.color} {user_car.make} {user_car.model} with {user_car.num_wheels} wheels and {user_car.num_doors} doors\")"
   ]
  },
  {
   "cell_type": "markdown",
   "metadata": {},
   "source": [
    "##### The 'self' Attribute <br>\n",
    "<p>This attribute is required to keep track of specific instance's attributes. Without the self attribute, the program would not know how to reference or keep track of an instance's attributes.</p>"
   ]
  },
  {
   "cell_type": "code",
   "execution_count": 26,
   "metadata": {},
   "outputs": [
    {
     "name": "stdout",
     "output_type": "stream",
     "text": [
      "Charmander\n",
      "This is Charmander. It is a fire type.\n"
     ]
    }
   ],
   "source": [
    "class Pokemon():\n",
    "    def __init__(self, name, type_):\n",
    "        #self is going to hold the place of the object we instantiate\n",
    "        self.name = name #self will become object. (object.name)\n",
    "        self.type_ = type_\n",
    "#         print(f\"self is referencing the object {self}, {self.name}\")\n",
    "#         print(self.type_)\n",
    "\n",
    "    def print_info(self):\n",
    "        print(f\"This is {self.name}. It is a {self.type_} type.\")\n",
    "        \n",
    "        \n",
    "    \n",
    "        \n",
    "charmander = Pokemon(\"Charmander\", \"fire\")\n",
    "# squirtle = Pokemon(\"Squirtle\", \"water\")\n",
    "\n",
    "print(charmander.name)\n",
    "\n",
    "charmander.print_info()"
   ]
  },
  {
   "cell_type": "markdown",
   "metadata": {},
   "source": [
    "## Class Attributes <br>\n",
    "<p>While variables are inside of a class, they are referred to as attributes and not variables. When someone says 'attribute' you know they're speaking about a class. Attributes can be initialized through the init method, or outside of it.</p>"
   ]
  },
  {
   "cell_type": "markdown",
   "metadata": {},
   "source": [
    "##### Initializing Attributes"
   ]
  },
  {
   "cell_type": "code",
   "execution_count": null,
   "metadata": {},
   "outputs": [],
   "source": [
    "bulbasaur = Pokemon(\"Bulbasaur\", \"Grass\")"
   ]
  },
  {
   "cell_type": "markdown",
   "metadata": {},
   "source": [
    "##### Accessing Class Attributes"
   ]
  },
  {
   "cell_type": "code",
   "execution_count": null,
   "metadata": {
    "scrolled": true
   },
   "outputs": [],
   "source": [
    "print(bulbasaur.name)\n",
    "print(bulbasaur.type_)\n",
    "print(bulbasaur.__dict__)"
   ]
  },
  {
   "cell_type": "markdown",
   "metadata": {},
   "source": [
    "##### Setting Defaults for Attributes"
   ]
  },
  {
   "cell_type": "code",
   "execution_count": null,
   "metadata": {},
   "outputs": [],
   "source": [
    "class Car():\n",
    "    def __init__(self, wheels):\n",
    "        self.wheels = wheels\n",
    "        self.color = \"Blue\"\n",
    "        \n",
    "honda = Car(4)\n",
    "print(honda.color)\n",
    "print(honda.wheels)\n",
    "mazda = Car(4)"
   ]
  },
  {
   "cell_type": "code",
   "execution_count": 27,
   "metadata": {},
   "outputs": [
    {
     "name": "stdout",
     "output_type": "stream",
     "text": [
      "blue\n",
      "orange\n",
      "Red\n"
     ]
    }
   ],
   "source": [
    "class Car():\n",
    "    def __init__(self, wheels, color = 'Red'):\n",
    "        self.wheels = wheels\n",
    "        self.color = color\n",
    "ford = Car(4)\n",
    "# print(ford.wheels)\n",
    "# print(ford.color)\n",
    "mazda = Car(4, \"blue\")\n",
    "print(mazda.color)\n",
    "\n",
    "honda = Car(4, \"orange\")\n",
    "print(honda.color)\n",
    "print(ford.color)"
   ]
  },
  {
   "cell_type": "markdown",
   "metadata": {},
   "source": [
    "##### Changing Class Attributes <br>\n",
    "<p>Keep in mind there are global class attributes and then there are attributes only available to each class instance which won't effect other classes.</p>"
   ]
  },
  {
   "cell_type": "code",
   "execution_count": null,
   "metadata": {},
   "outputs": [],
   "source": [
    "class Car():\n",
    "    def __init__(self, wheels):\n",
    "        self.wheels = wheels\n",
    "        self.color = \"Blue\"\n",
    "        \n",
    "honda = Car(4)\n",
    "# print(honda.color)\n",
    "print(honda.wheels)\n",
    "mazda = Car(4)\n",
    "#Change our default attribute\n",
    "print(f\"before attribute change {honda.color}\")\n",
    "honda.color = \"Red\"\n",
    "print(f\"after attribute change {honda.color}\")\n",
    "\n",
    "color = \"Blue\"\n",
    "print(f\"before variable change {color}\")\n",
    "color = \"red\"\n",
    "print(f\"after variable change {honda.color}\")\n"
   ]
  },
  {
   "cell_type": "markdown",
   "metadata": {},
   "source": [
    "##### In-Class Exercise #2 - Add two new attributes to your 'Car' class then print out two different instances with different doors and seats. Then take that bad boy to the shop and change those attributes. Either with an input or just by changing them"
   ]
  },
  {
   "cell_type": "code",
   "execution_count": 2,
   "metadata": {},
   "outputs": [
    {
     "name": "stdout",
     "output_type": "stream",
     "text": [
      "The Chevy has 5 doors and 6 seats.\n",
      "The Fisher-Price has 2 doors and 1 seats.\n",
      "The Chevy now has 4 doors and 5 seats.\n"
     ]
    }
   ],
   "source": [
    "# Create class\n",
    "class Car:\n",
    "    def __init__(self, make, model, wheels, color, doors=4, seats=2):\n",
    "        self.make = make\n",
    "        self.model = model\n",
    "        self.wheels = wheels\n",
    "        self.color = color\n",
    "        self.doors = doors\n",
    "        self.seats = seats\n",
    "\n",
    "# Create instances with different attributes\n",
    "chevy = Car(\"Chevy\", \"Impala\", 4, \"Mocha Metallic Bronze\", 5, 6)\n",
    "fisher = Car(\"Fisher-Price\", \"Toy\", 4, \"red\", 2, 1)\n",
    "\n",
    "# Print the attributes of the two instances\n",
    "print(f\"The Chevy has {chevy.doors} doors and {chevy.seats} seats.\")\n",
    "print(f\"The Fisher-Price has {fisher.doors} doors and {fisher.seats} seats.\")\n",
    "\n",
    "# Change the attributes of the Chevy car\n",
    "chevy.doors = int(input(\"Enter the number of doors for the Chevy: \"))\n",
    "chevy.seats = int(input(\"Enter the number of seats for the Chevy: \"))\n",
    "\n",
    "# Print the new attributes of the Chevy car\n",
    "print(f\"The Chevy now has {chevy.doors} doors and {chevy.seats} seats.\")"
   ]
  },
  {
   "cell_type": "markdown",
   "metadata": {},
   "source": [
    "## Class Methods <br>\n",
    "<p>While inside of a class, functions are referred to as 'methods'. If you hear someone mention methods, they're speaking about classes. Methods are essentially functions, but only callable on the instances of a class.</p>"
   ]
  },
  {
   "cell_type": "markdown",
   "metadata": {},
   "source": [
    "##### Creating"
   ]
  },
  {
   "cell_type": "code",
   "execution_count": 5,
   "metadata": {},
   "outputs": [
    {
     "name": "stdout",
     "output_type": "stream",
     "text": [
      "Your pizza has marinara sauce, pineapple toppings, and thin crust.\n"
     ]
    }
   ],
   "source": [
    "class Pizza:\n",
    "    def __init__(self, sauce, toppings, crust):\n",
    "        self.sauce = sauce\n",
    "        self.toppings = toppings\n",
    "        self.crust = crust\n",
    "\n",
    "    def set_sauce(self):\n",
    "        self.sauce = input(\"What kind sauce would you like?\")\n",
    "        return self.sauce\n",
    "\n",
    "    def set_toppings(self):\n",
    "        self.toppings = input(\"What would you like on your pizza?\")\n",
    "        return self.toppings\n",
    "\n",
    "    def set_crust(self):\n",
    "        self.crust = input(\"What kind of crust would you like?\")\n",
    "        return self.crust\n",
    "\n",
    "my_pizza = Pizza(\"\", \"\", \"\")  # creates a new instance\n",
    "\n",
    "sauce = my_pizza.set_sauce()\n",
    "toppings = my_pizza.set_toppings()\n",
    "crust = my_pizza.set_crust()\n",
    "\n",
    "print(f\"Your pizza has {sauce} sauce, {toppings} toppings, and {crust} crust.\")"
   ]
  },
  {
   "cell_type": "markdown",
   "metadata": {},
   "source": [
    "##### Calling"
   ]
  },
  {
   "cell_type": "code",
   "execution_count": 4,
   "metadata": {},
   "outputs": [
    {
     "name": "stdout",
     "output_type": "stream",
     "text": [
      "There are too many passengers! The bus can only hold 2 passengers.\n",
      "Driver changed from Ryan to rico\n",
      "OH NO! There are still passengers to be picked up. Pls dont abandon them!\n"
     ]
    }
   ],
   "source": [
    "class Bus:\n",
    "    def __init__(self, seats, speed, mileage, color, driver):\n",
    "        self.seats = seats\n",
    "        self.speed = speed\n",
    "        self.mileage = mileage\n",
    "        self.color = color\n",
    "        self.driver = driver\n",
    "        self.passengers = 0\n",
    "\n",
    "    def load_passengers(self):\n",
    "        new_passengers = int(input(\"How many passengers are getting on the bus?\"))\n",
    "        if new_passengers + self.passengers > self.seats:\n",
    "            print(\"There are too many passengers! The bus can only hold\", self.seats, \"passengers.\")\n",
    "        else:\n",
    "            self.passengers += new_passengers\n",
    "            print(new_passengers, \"passengers loaded. There are now\", self.passengers, \"passengers on the bus.\")\n",
    "\n",
    "    def unload_passengers(self):\n",
    "        leaving_passengers = int(input(\"How many passengers are leaving the bus?\"))\n",
    "        if leaving_passengers > self.passengers:\n",
    "            print(\"There aren't that many passengers on the bus!\")\n",
    "        else:\n",
    "            self.passengers -= leaving_passengers\n",
    "            print(leaving_passengers, \"passengers left the bus. There are now\", self.passengers, \"passengers on the bus.\")\n",
    "\n",
    "    def change_driver(self):\n",
    "        new_driver = input(\"Who is the new driver?\")\n",
    "        print(\"Driver changed from\", self.driver, \"to\", new_driver)\n",
    "        self.driver = new_driver\n",
    "\n",
    "    def check_seats(self):\n",
    "        print(\"There are\", self.seats, \"seats on the bus.\")\n",
    "        print(self.passengers, \"passengers are currently on the bus.\")\n",
    "        print(self.seats - self.passengers, \"seats are available on the bus.\")\n",
    "\n",
    "    def admire_bus(self):\n",
    "        print(\"This bus is\", self.color + \".\", \"It has traveled\", self.mileage, \"miles at a max speed of\", self.speed, \"mph.\")\n",
    "\n",
    "def run():\n",
    "    ryan_bus = Bus(2, 90, 45, \"yellow\", \"Ryan\")\n",
    "\n",
    "    while True:\n",
    "        response = input(\"What would you like to do? Load/Unload/Change Driver/Check Seats/Admire/Quit?\")\n",
    "        if response.lower() == \"quit\":\n",
    "            print(\"OH NO! There are still passengers to be picked up. Pls dont abandon them!\")\n",
    "            break\n",
    "        elif response.lower() == 'load':\n",
    "            ryan_bus.load_passengers()\n",
    "\n",
    "        elif response.lower() == \"unload\":\n",
    "            ryan_bus.unload_passengers()\n",
    "\n",
    "        elif response.lower() == \"change driver\":\n",
    "            ryan_bus.change_driver()\n",
    "\n",
    "        elif response.lower() == \"check seats\":\n",
    "            ryan_bus.check_seats()\n",
    "\n",
    "        elif response.lower() == \"admire\":\n",
    "            ryan_bus.admire_bus()\n",
    "\n",
    "        else:\n",
    "            print(\"That is not a valid response. Please pick from the list!\")\n",
    "\n",
    "run()"
   ]
  },
  {
   "cell_type": "code",
   "execution_count": 2,
   "metadata": {},
   "outputs": [
    {
     "name": "stdout",
     "output_type": "stream",
     "text": [
      "There are too many passengers! The bus can only hold 2 passengers.\n",
      "There are 2 seats on the bus.\n",
      "0 passengers are currently on the bus.\n",
      "2 seats are available on the bus.\n",
      "Driver changed from Ryan to Chuck\n",
      "This bus is yellow. It has traveled 45 miles at a max speed of 90 mph.\n",
      "OH NO! There are still passengers to be picked up. Pls dont abandon them!\n"
     ]
    }
   ],
   "source": [
    "class Bus:\n",
    "    def __init__(self, seats, speed, mileage, color, driver):\n",
    "        self.seats = seats\n",
    "        self.speed = speed\n",
    "        self.mileage = mileage\n",
    "        self.color = color\n",
    "        self.driver = driver\n",
    "        self.passengers = 0\n",
    "\n",
    "    def load_passengers(self):\n",
    "        new_passengers = int(input(\"How many passengers are getting on the bus?\"))\n",
    "        if new_passengers + self.passengers > self.seats:\n",
    "            print(\"There are too many passengers! The bus can only hold\", self.seats, \"passengers.\")\n",
    "        else:\n",
    "            self.passengers += new_passengers\n",
    "            print(new_passengers, \"passengers loaded. There are now\", self.passengers, \"passengers on the bus.\")\n",
    "\n",
    "    def unload_passengers(self):\n",
    "        while True:\n",
    "            try:\n",
    "                leaving_passengers = int(input(\"How many passengers are leaving the bus?\"))\n",
    "                if leaving_passengers > self.passengers:\n",
    "                    print(\"There aren't that many passengers on the bus!\")\n",
    "                else:\n",
    "                    self.passengers -= leaving_passengers\n",
    "                    print(leaving_passengers, \"passengers left the bus. There are now\", self.passengers, \"passengers on the bus.\")\n",
    "                break\n",
    "            except ValueError:\n",
    "                print(\"Please enter a valid number.\")\n",
    "\n",
    "    def change_driver(self):\n",
    "        new_driver = input(\"Who is the new driver?\")\n",
    "        print(\"Driver changed from\", self.driver, \"to\", new_driver)\n",
    "        self.driver = new_driver\n",
    "\n",
    "    def check_seats(self):\n",
    "        print(\"There are\", self.seats, \"seats on the bus.\")\n",
    "        print(self.passengers, \"passengers are currently on the bus.\")\n",
    "        print(self.seats - self.passengers, \"seats are available on the bus.\")\n",
    "\n",
    "    def admire_bus(self):\n",
    "        print(\"This bus is\", self.color + \".\", \"It has traveled\", self.mileage, \"miles at a max speed of\", self.speed, \"mph.\")\n",
    "\n",
    "def run():\n",
    "    ryan_bus = Bus(2, 90, 45, \"yellow\", \"Ryan\")\n",
    "\n",
    "    while True:\n",
    "        response = input(\"What would you like to do? Load/Unload/Change Driver/Check Seats/Admire/Quit?\")\n",
    "        if response.lower() == \"quit\":\n",
    "            print(\"OH NO! There are still passengers to be picked up. Pls dont abandon them!\")\n",
    "            break\n",
    "        elif response.lower() == 'load':\n",
    "            ryan_bus.load_passengers()\n",
    "\n",
    "        elif response.lower() == \"unload\":\n",
    "            ryan_bus.unload_passengers()\n",
    "\n",
    "        elif response.lower() == \"change driver\":\n",
    "            ryan_bus.change_driver()\n",
    "\n",
    "        elif response.lower() == \"check seats\":\n",
    "            ryan_bus.check_seats()\n",
    "\n",
    "        elif response.lower() == \"admire\":\n",
    "            ryan_bus.admire_bus()\n",
    "\n",
    "        else:\n",
    "            print(\"That is not a valid response. Please pick from the list!\")\n",
    "\n",
    "run()"
   ]
  },
  {
   "cell_type": "markdown",
   "metadata": {},
   "source": [
    "##### Modifying an Attribute's Value Through a Method"
   ]
  },
  {
   "cell_type": "code",
   "execution_count": null,
   "metadata": {},
   "outputs": [],
   "source": [
    "# see above\n",
    "# load_passengers()\n",
    "# unload_passengers()\n",
    "# change_driver()"
   ]
  },
  {
   "cell_type": "markdown",
   "metadata": {},
   "source": [
    "##### Incrementing an Attribute's Value Through a Method"
   ]
  },
  {
   "cell_type": "code",
   "execution_count": null,
   "metadata": {},
   "outputs": [],
   "source": [
    "#unload_passengers()"
   ]
  },
  {
   "cell_type": "markdown",
   "metadata": {},
   "source": [
    "##### In-Class Exercise #3 - Add a method that takes in three parameters of year, doors and seats and prints out a formatted print statement with make, model, year, seats, and doors"
   ]
  },
  {
   "cell_type": "code",
   "execution_count": 3,
   "metadata": {},
   "outputs": [
    {
     "name": "stdout",
     "output_type": "stream",
     "text": [
      "This car is from 2019 and is a Ford Explorer and has 4 doors and 5 seats.\n"
     ]
    }
   ],
   "source": [
    "# Create class with 2 paramters inside of the __init__ which are make and model, more if you'd like\n",
    "\n",
    "# Create two methods for your class\n",
    "\n",
    "# Create a method that alters an attribute for your class\n",
    "\n",
    "# Display method that prints information about the vehicle\n",
    "\n",
    "# Output: This car is from 2019 and is a Ford Expolorer and has 4 doors and 5 seats\n",
    "\n",
    "# reminder in order to call class methods object.method()\n",
    "\n",
    "class Car:\n",
    "    def __init__(self, make, model, year=2021, doors=4, seats=5):\n",
    "        self.make = make\n",
    "        self.model = model\n",
    "        self.year = year\n",
    "        self.doors = doors\n",
    "        self.seats = seats\n",
    "\n",
    "    def update_doors(self, doors):\n",
    "        self.doors = doors\n",
    "\n",
    "    def update_seats(self, seats):\n",
    "        self.seats = seats\n",
    "\n",
    "    def print_info(self):\n",
    "        print(f\"This car is from {self.year} and is a {self.make} {self.model} and has {self.doors} doors and {self.seats} seats.\")\n",
    "\n",
    "my_car = Car(\"Ford\", \"Explorer\")\n",
    "my_car.update_doors(4)\n",
    "my_car.update_seats(5)\n",
    "my_car.print_info() "
   ]
  },
  {
   "cell_type": "markdown",
   "metadata": {},
   "source": [
    "## Inheritance <br>\n",
    "<p>You can create a child-parent relationship between two classes by using inheritance. What this allows you to do is have overriding methods, but also inherit traits from the parent class. Think of it as an actual parent and child, the child will inherit the parent's genes, as will the classes in OOP</p>"
   ]
  },
  {
   "cell_type": "markdown",
   "metadata": {},
   "source": [
    "##### Syntax for Inheriting from a Parent Class"
   ]
  },
  {
   "cell_type": "code",
   "execution_count": 4,
   "metadata": {},
   "outputs": [
    {
     "name": "stdout",
     "output_type": "stream",
     "text": [
      "Elliot runs at 15 mph\n",
      "rooo\n"
     ]
    }
   ],
   "source": [
    "class Animal:\n",
    "    def __init__(self, name, species, legs=4):\n",
    "        self.name = name\n",
    "        self.species = species\n",
    "        self.legs = legs\n",
    "\n",
    "    # generic parent method\n",
    "    def make_sound(self):\n",
    "        print(\"REEEE\")\n",
    "\n",
    "\n",
    "class Dog(Animal):\n",
    "    SPEED = 15\n",
    "\n",
    "    def __init__(self, name, species, color, legs):\n",
    "        super().__init__(name, species, legs)\n",
    "        self.color = color\n",
    "\n",
    "    def print_info(self):\n",
    "        print(f'{self.name} runs at {self.SPEED} mph')\n",
    "\n",
    "# grand child class\n",
    "class Elliot(Dog):\n",
    "    COLOR = \"beige\"\n",
    "\n",
    "    # Access the animal init class through the dog class\n",
    "    def __init__(self, name, species, eye_color, legs):\n",
    "        super().__init__(name, species, color=None, legs=legs) # calling the Dog constructor with `color` set to None\n",
    "        self.eye_color = eye_color\n",
    "\n",
    "    # override the make_sound method\n",
    "    def make_sound(self):\n",
    "        print(\"rooo\")\n",
    "\n",
    "# create an instance of Elliot\n",
    "elli = Elliot(\"Elliot\", \"Canine\", \"brown\", legs=4)\n",
    "elli.print_info()\n",
    "\n",
    "# call the make_sound method\n",
    "elli.make_sound()\n",
    "\n"
   ]
  },
  {
   "cell_type": "code",
   "execution_count": 16,
   "metadata": {},
   "outputs": [],
   "source": [
    "class Animal:\n",
    "    def __init__(self, name, species, legs):\n",
    "        self.name = name\n",
    "        self.species = species\n",
    "        self.legs = legs\n",
    "\n",
    "    def print_info(self):\n",
    "        print(f'{self.name} is a {self.species} with {self.legs} legs')\n",
    "\n",
    "\n",
    "class Dog(Animal):\n",
    "    SPEED = 15\n",
    "\n",
    "    def __init__(self, name, species, color, legs):\n",
    "        super().__init__(name, species, legs)\n",
    "        self.color = color\n",
    "\n",
    "    def print_info(self):\n",
    "        print(f'{self.name} runs at {self.SPEED} mph')\n",
    "\n",
    "\n",
    "class Elliot(Dog):\n",
    "    COLOR = \"beige\"\n",
    "\n",
    "    def __init__(self, name, species, color, eye_color, legs):\n",
    "        super().__init__(name, species, color, legs)\n",
    "        self.eye_color = eye_color\n",
    "\n",
    "    def make_sound(self):\n",
    "        print(\"ruff\")\n",
    "\n",
    "    def print_info(self):\n",
    "        print(f'{self.name} has {self.COLOR} fur and {self.eye_color} eyes')\n",
    "        super().print_info()\n"
   ]
  },
  {
   "cell_type": "markdown",
   "metadata": {},
   "source": [
    "##### The \\__init\\__() Method for a Child Class - super()"
   ]
  },
  {
   "cell_type": "code",
   "execution_count": 31,
   "metadata": {
    "scrolled": true
   },
   "outputs": [
    {
     "name": "stdout",
     "output_type": "stream",
     "text": [
      "Buddy is an animal.\n",
      "Buddy is a Golden Retriever dog.\n"
     ]
    }
   ],
   "source": [
    "class Animal:\n",
    "    def __init__(self, name):\n",
    "        self.name = name\n",
    "        print(f\"{self.name} is an animal.\")\n",
    "\n",
    "class Dog(Animal):\n",
    "    def __init__(self, name, breed):\n",
    "        super().__init__(name)\n",
    "        self.breed = breed\n",
    "        print(f\"{self.name} is a {self.breed} dog.\")\n",
    "\n",
    "dog = Dog(\"Buddy\", \"Golden Retriever\")"
   ]
  },
  {
   "cell_type": "markdown",
   "metadata": {},
   "source": [
    "##### Defining Attributes and Methods for the Child Class"
   ]
  },
  {
   "cell_type": "code",
   "execution_count": null,
   "metadata": {},
   "outputs": [],
   "source": [
    "# See Above"
   ]
  },
  {
   "cell_type": "markdown",
   "metadata": {},
   "source": [
    "##### Method Overriding"
   ]
  },
  {
   "cell_type": "code",
   "execution_count": null,
   "metadata": {},
   "outputs": [],
   "source": [
    "# See Above"
   ]
  },
  {
   "cell_type": "markdown",
   "metadata": {},
   "source": [
    "## Classes as Attributes <br>\n",
    "<p>Classes can also be used as attributes within another class. This is useful in situations where you need to keep variables locally stored, instead of globally stored.</p>"
   ]
  },
  {
   "cell_type": "code",
   "execution_count": 32,
   "metadata": {},
   "outputs": [
    {
     "name": "stdout",
     "output_type": "stream",
     "text": [
      "2022 Tesla Model Y <__main__.Battery object at 0x0000024610E90090>\n"
     ]
    }
   ],
   "source": [
    "class Battery():\n",
    "    VOLTZ = 7.8\n",
    "    \n",
    "    def __init__(self, cells):\n",
    "        self.cells = cells\n",
    "        \n",
    "class Car():\n",
    "    def __init__(self, year, make, model, battery):\n",
    "        self.year = year\n",
    "        self.make = make\n",
    "        self.model = model\n",
    "        self.battery = battery\n",
    "        \n",
    "    def print_info(self):\n",
    "        print(f\"{self.year} {self.make} {self.model} {self.battery}\")\n",
    "        \n",
    "batt = Battery(20)\n",
    "\n",
    "tesla = Car(2022, \"Tesla\", \"Model Y\", batt)\n",
    "\n",
    "# print(tesla.battery.cells)\n",
    "\n",
    "tesla.print_info()"
   ]
  },
  {
   "cell_type": "markdown",
   "metadata": {},
   "source": [
    "## Classes as Attributes <br>"
   ]
  },
  {
   "cell_type": "markdown",
   "metadata": {},
   "source": [
    "<b>Generators in classes</b>"
   ]
  },
  {
   "cell_type": "code",
   "execution_count": 33,
   "metadata": {},
   "outputs": [
    {
     "name": "stdout",
     "output_type": "stream",
     "text": [
      "spooky\n",
      "adventure\n",
      "drama\n",
      "horror\n",
      "comedy\n",
      "action\n",
      "romance\n"
     ]
    }
   ],
   "source": [
    "class Movie:\n",
    "    def __init__(self):\n",
    "        self.genres = ['spooky', 'adventure', 'drama', 'horror', 'comedy', 'action', 'romance']\n",
    "        self.generator_object = self.yield_genres()\n",
    "\n",
    "    def yield_genres(self):\n",
    "        for genre in self.genres:\n",
    "            yield genre\n",
    "\n",
    "    def show_genres(self):\n",
    "        try:\n",
    "            for genre in self.generator_object:\n",
    "                print(genre)\n",
    "        except StopIteration:\n",
    "            print('no more genres')\n",
    "\n",
    "my_movie = Movie()\n",
    "my_movie.show_genres()\n"
   ]
  },
  {
   "cell_type": "markdown",
   "metadata": {},
   "source": [
    "# Exercises"
   ]
  },
  {
   "cell_type": "markdown",
   "metadata": {},
   "source": [
    "### Exercise 1 - Turn the shopping cart program from last week into an object-oriented program\n",
    "\n",
    "The comments in the cell below are there as a guide for thinking about the problem. However, if you feel a different way is best for you and your own thought process, please do what feels best for you by all means."
   ]
  },
  {
   "cell_type": "code",
   "execution_count": 17,
   "metadata": {},
   "outputs": [
    {
     "name": "stdout",
     "output_type": "stream",
     "text": [
      "Enter the item number you want to add or remove:\n",
      "1. Yuzu juice\n",
      "2. Lobster\n",
      "3. Truffle\n",
      "4. Sakura Mochi\n",
      "You selected: Yuzu juice\n",
      "Enter the quantity for Yuzu juice:\n",
      "Do you want to add or remove 2 Yuzu juice? Enter 'add' or 'remove':\n",
      "Invalid action. Please enter 'add' or 'remove'.\n",
      "2 Yuzu juice added to the cart.\n",
      "\n",
      "Current cart:\n",
      "ITEM\t\tQUANT\t\tUNIT PRICE\t\tTOTAL\n",
      "Yuzu juice\t\t2\t\t9.99\t\t19.98\n",
      "\n",
      "Your total order is ($) 19.98\n",
      "\n",
      "Do you want to continue shopping? Enter 'yes' or 'no':\n",
      "Enter the item number you want to add or remove:\n",
      "1. Yuzu juice\n",
      "2. Lobster\n",
      "3. Truffle\n",
      "4. Sakura Mochi\n",
      "You selected: Lobster\n",
      "Enter the quantity for Lobster:\n",
      "Do you want to add or remove 56 Lobster? Enter 'add' or 'remove':\n",
      "56 Lobster added to the cart.\n",
      "\n",
      "Current cart:\n",
      "ITEM\t\tQUANT\t\tUNIT PRICE\t\tTOTAL\n",
      "Yuzu juice\t\t2\t\t9.99\t\t19.98\n",
      "Lobster\t\t56\t\t19.99\t\t1119.44\n",
      "\n",
      "Your total order is ($) 1139.42\n",
      "\n",
      "Do you want to continue shopping? Enter 'yes' or 'no':\n",
      "\n",
      "Final cart:\n",
      "ITEM\t\tQUANT\t\tUNIT PRICE\t\tTOTAL\n",
      "Yuzu juice\t\t2\t\t9.99\t\t19.98\n",
      "Lobster\t\t56\t\t19.99\t\t1119.44\n",
      "\n",
      "Your total order is ($) 1139.42\n"
     ]
    }
   ],
   "source": [
    "class Cart:\n",
    "    def __init__(self):\n",
    "        self.items = {}\n",
    "\n",
    "    def add_item(self, item, quantity):\n",
    "        if item in self.items:\n",
    "            self.items[item] += quantity\n",
    "        else:\n",
    "            self.items[item] = quantity\n",
    "\n",
    "    def remove_item(self, item, quantity):\n",
    "        if item in self.items:\n",
    "            if quantity >= self.items[item]:\n",
    "                del self.items[item]\n",
    "            else:\n",
    "                self.items[item] -= quantity\n",
    "\n",
    "    def show_items(self, menu):\n",
    "        print('ITEM', 'QUANT', 'UNIT PRICE', 'TOTAL', sep='\\t\\t')\n",
    "        grand_total = 0.0\n",
    "        for item, quantity in self.items.items():\n",
    "            unit_price = menu[item]\n",
    "            total_price = round(unit_price * quantity, 2)\n",
    "            grand_total += total_price\n",
    "            print(item, quantity, unit_price, total_price, sep='\\t\\t')\n",
    "        print('\\nYour total order is ($)', round(grand_total, 2))\n",
    "\n",
    "    def add_or_remove_item(self, menu):\n",
    "        print(\"Enter the item number you want to add or remove:\")\n",
    "        for index, item in enumerate(menu, start=1):\n",
    "            print(f\"{index}. {item}\")\n",
    "        item_number = int(input())\n",
    "        while item_number not in range(1, len(menu) + 1):\n",
    "            print(\"Invalid item number. Please enter a number between 1 and\", len(menu))\n",
    "            item_number = int(input())\n",
    "        item = list(menu.keys())[item_number - 1]\n",
    "        print(f\"You selected: {item}\")\n",
    "        print(f\"Enter the quantity for {item}:\")\n",
    "        quantity = int(input())\n",
    "        while quantity <= 0:\n",
    "            print(\"Invalid quantity. Please enter a number greater than 0.\")\n",
    "            quantity = int(input())\n",
    "        print(f\"Do you want to add or remove {quantity} {item}? Enter 'add' or 'remove':\")\n",
    "        action = input()\n",
    "        while action not in [\"add\", \"remove\"]:\n",
    "            print(\"Invalid action. Please enter 'add' or 'remove'.\")\n",
    "            action = input()\n",
    "        if action == \"add\":\n",
    "            self.add_item(item, quantity)\n",
    "            print(f\"{quantity} {item} added to the cart.\")\n",
    "        else:\n",
    "            self.remove_item(item, quantity)\n",
    "            print(f\"{quantity} {item} removed from the cart.\")\n",
    "\n",
    "\n",
    "def main():\n",
    "    # Define the menu\n",
    "    menu = {'Yuzu juice': 9.99, 'Lobster': 19.99, 'Truffle': 14.99, 'Sakura Mochi': 5.99}\n",
    "\n",
    "    # Create an instance of Cart\n",
    "    my_cart = Cart()\n",
    "\n",
    "    # Show the menu and ask the user to add or remove items until they're done\n",
    "    done = False\n",
    "    while not done:\n",
    "        my_cart.add_or_remove_item(menu)\n",
    "        print(\"\\nCurrent cart:\")\n",
    "        my_cart.show_items(menu)\n",
    "        print(\"\\nDo you want to continue shopping? Enter 'yes' or 'no':\")\n",
    "        answer = input()\n",
    "        while answer not in [\"yes\", \"no\"]:\n",
    "            print(\"Invalid answer. Please enter 'yes' or 'no'.\")\n",
    "            answer = input()\n",
    "        if answer == \"no\":\n",
    "            done = True\n",
    "\n",
    "    # Show the final cart and total price\n",
    "    print(\"\\nFinal cart:\")\n",
    "    my_cart.show_items(menu)\n",
    "\n",
    "\n",
    "if __name__ == '__main__':\n",
    "    main()"
   ]
  },
  {
   "cell_type": "markdown",
   "metadata": {},
   "source": [
    "### Exercise 2 - Write a Python class which has two methods get_String and print_String. get_String accept a string from the user and print_String print the string in upper case"
   ]
  },
  {
   "cell_type": "code",
   "execution_count": 46,
   "metadata": {},
   "outputs": [
    {
     "name": "stdout",
     "output_type": "stream",
     "text": [
      "HELLO AWESOME!\n",
      "HOW IS GOING?\n"
     ]
    }
   ],
   "source": [
    "class welcome:\n",
    "    def __init__(self):\n",
    "        self.user_string = \"\"\n",
    "\n",
    "    def get_String(self):\n",
    "        self.user_string = input(\"Enter a string: \")\n",
    "\n",
    "    def print_String(self):\n",
    "        print(self.user_string.upper())\n",
    "\n",
    "string_manipulator = welcome()\n",
    "\n",
    "# First run\n",
    "string_manipulator.get_String()\n",
    "string_manipulator.print_String()\n",
    "\n",
    "# Redo the string\n",
    "string_manipulator.get_String()\n",
    "string_manipulator.print_String()"
   ]
  }
 ],
 "metadata": {
  "kernelspec": {
   "display_name": "Python 3 (ipykernel)",
   "language": "python",
   "name": "python3"
  },
  "language_info": {
   "codemirror_mode": {
    "name": "ipython",
    "version": 3
   },
   "file_extension": ".py",
   "mimetype": "text/x-python",
   "name": "python",
   "nbconvert_exporter": "python",
   "pygments_lexer": "ipython3",
   "version": "3.11.2"
  }
 },
 "nbformat": 4,
 "nbformat_minor": 2
}
